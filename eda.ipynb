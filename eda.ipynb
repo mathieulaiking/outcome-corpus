{
 "cells": [
  {
   "cell_type": "markdown",
   "metadata": {},
   "source": [
    "# Data analysis for annotation task between 2 annotators"
   ]
  },
  {
   "cell_type": "code",
   "execution_count": 1,
   "metadata": {},
   "outputs": [],
   "source": [
    "import os\n",
    "from brat_parser import get_entities_relations_attributes_groups\n",
    "from collections import Counter\n",
    "import pandas as pd"
   ]
  },
  {
   "cell_type": "code",
   "execution_count": 2,
   "metadata": {},
   "outputs": [],
   "source": [
    "non_indep_studies = [1] + [i for i in range(100,108 + 1)]\n",
    "common_studies = [2,3,4,11,12,13,14,15,16,19,23,24,26,34,37,43,45,116,117,126]\n",
    "ignored_files = [\".stats_cache\"]"
   ]
  },
  {
   "cell_type": "markdown",
   "metadata": {},
   "source": [
    "#### Text contents standardization"
   ]
  },
  {
   "cell_type": "code",
   "execution_count": 5,
   "metadata": {},
   "outputs": [],
   "source": [
    "a1_annotations = []\n",
    "a2_annotations = []\n",
    "for f in os.listdir('brat_annotations/annotator1'):\n",
    "    if f not in ignored_files :\n",
    "        file_id = int(f.split(\".\")[0])\n",
    "        if f.endswith(\".ann\") and file_id not in common_studies and file_id not in non_indep_studies:\n",
    "            if os.stat('brat_annotations/annotator1/' + f).st_size != 0:\n",
    "                a1_annotations.append(file_id)\n",
    "            if os.stat('brat_annotations/annotator2/' + f).st_size != 0:\n",
    "                a2_annotations.append(file_id)"
   ]
  },
  {
   "cell_type": "code",
   "execution_count": 6,
   "metadata": {},
   "outputs": [
    {
     "data": {
      "text/plain": [
       "(29, 27)"
      ]
     },
     "execution_count": 6,
     "metadata": {},
     "output_type": "execute_result"
    }
   ],
   "source": [
    "len(a1_annotations), len(a2_annotations)"
   ]
  },
  {
   "cell_type": "markdown",
   "metadata": {},
   "source": [
    "#### Entities count between Annotators"
   ]
  },
  {
   "cell_type": "code",
   "execution_count": 11,
   "metadata": {},
   "outputs": [],
   "source": [
    "def get_entities_total_count(annotation_dir):\n",
    "    entities_counter = Counter()\n",
    "    for file in os.listdir(annotation_dir) :\n",
    "        if file not in ignored_files and file.endswith(\".ann\"):\n",
    "            filepath = os.path.join(annotation_dir, file)\n",
    "            entities = get_entities_relations_attributes_groups(filepath)[0]\n",
    "            if entities :\n",
    "                ent_types = [ent_obj.type for ent_obj in entities.values()]\n",
    "                entities_counter.update(ent_types)\n",
    "    return entities_counter"
   ]
  },
  {
   "cell_type": "code",
   "execution_count": 12,
   "metadata": {},
   "outputs": [
    {
     "data": {
      "text/html": [
       "<div>\n",
       "<style scoped>\n",
       "    .dataframe tbody tr th:only-of-type {\n",
       "        vertical-align: middle;\n",
       "    }\n",
       "\n",
       "    .dataframe tbody tr th {\n",
       "        vertical-align: top;\n",
       "    }\n",
       "\n",
       "    .dataframe thead th {\n",
       "        text-align: right;\n",
       "    }\n",
       "</style>\n",
       "<table border=\"1\" class=\"dataframe\">\n",
       "  <thead>\n",
       "    <tr style=\"text-align: right;\">\n",
       "      <th></th>\n",
       "      <th>annotator1</th>\n",
       "      <th>annotator2</th>\n",
       "    </tr>\n",
       "  </thead>\n",
       "  <tbody>\n",
       "    <tr>\n",
       "      <th>PrimaryOutcome</th>\n",
       "      <td>82</td>\n",
       "      <td>81</td>\n",
       "    </tr>\n",
       "    <tr>\n",
       "      <th>TimeFrame</th>\n",
       "      <td>146</td>\n",
       "      <td>138</td>\n",
       "    </tr>\n",
       "    <tr>\n",
       "      <th>OutcomeDefinition</th>\n",
       "      <td>104</td>\n",
       "      <td>88</td>\n",
       "    </tr>\n",
       "    <tr>\n",
       "      <th>OtherOutcome</th>\n",
       "      <td>171</td>\n",
       "      <td>133</td>\n",
       "    </tr>\n",
       "    <tr>\n",
       "      <th>SecondaryOutcome</th>\n",
       "      <td>223</td>\n",
       "      <td>229</td>\n",
       "    </tr>\n",
       "  </tbody>\n",
       "</table>\n",
       "</div>"
      ],
      "text/plain": [
       "                   annotator1  annotator2\n",
       "PrimaryOutcome             82          81\n",
       "TimeFrame                 146         138\n",
       "OutcomeDefinition         104          88\n",
       "OtherOutcome              171         133\n",
       "SecondaryOutcome          223         229"
      ]
     },
     "execution_count": 12,
     "metadata": {},
     "output_type": "execute_result"
    }
   ],
   "source": [
    "ent_count1 = get_entities_total_count('brat_annotations/annotator1')\n",
    "ent_count2 = get_entities_total_count('brat_annotations/annotator2')\n",
    "df = pd.DataFrame({\"annotator1\" : ent_count1, \"annotator2\": ent_count2})\n",
    "df"
   ]
  },
  {
   "cell_type": "code",
   "execution_count": 13,
   "metadata": {},
   "outputs": [
    {
     "data": {
      "text/plain": [
       "annotator1    726\n",
       "annotator2    669\n",
       "dtype: int64"
      ]
     },
     "execution_count": 13,
     "metadata": {},
     "output_type": "execute_result"
    }
   ],
   "source": [
    "df.sum()"
   ]
  },
  {
   "cell_type": "markdown",
   "metadata": {},
   "source": [
    "#### Overlapping entities with multiple overlaps"
   ]
  },
  {
   "cell_type": "code",
   "execution_count": 14,
   "metadata": {},
   "outputs": [],
   "source": [
    "def is_included(span1,span2) :\n",
    "    \"\"\"check if span2 is included in or overlapping with span1\"\"\"\n",
    "    ret = False\n",
    "    if span1[0] < span2[0] < span1[1] < span2[1] :\n",
    "        ret = True\n",
    "    if span1[0] < span2[0] < span2[1] < span1[1] :\n",
    "        ret = True\n",
    "    return ret\n",
    "\n",
    "def is_overlapping(span1, span2):\n",
    "    \"\"\"checks if 2 spans have an overlap\"\"\"\n",
    "    return is_included(span1,span2) or is_included(span2,span1) or span1 == span2\n",
    "\n",
    "def find_overlaps(entity, entity_list):\n",
    "    matches = []\n",
    "    for e in entity_list:\n",
    "        if is_overlapping(entity,e) :\n",
    "            matches.append(e)\n",
    "    return matches\n",
    "\n",
    "def get_entities_spans(filepath) :\n",
    "    return [v.span[0] for v in get_entities_relations_attributes_groups(filepath)[0].values()]"
   ]
  },
  {
   "cell_type": "code",
   "execution_count": 15,
   "metadata": {},
   "outputs": [
    {
     "name": "stdout",
     "output_type": "stream",
     "text": [
      "Study :  14\n",
      "Entity compared :  (147, 1076)\n",
      "Matches  :  [(145, 284), (286, 912)]\n",
      "Study :  16\n",
      "Entity compared :  (201, 344)\n",
      "Matches  :  [(199, 231), (233, 298), (299, 322)]\n",
      "Study :  24\n",
      "Entity compared :  (1088, 1217)\n",
      "Matches  :  [(1113, 1139), (1157, 1190)]\n"
     ]
    }
   ],
   "source": [
    "for s in common_studies :\n",
    "    a1 = f'brat_annotations/annotator1/{str(s)}.ann'\n",
    "    a2 = f'brat_annotations/annotator2/{str(s)}.ann'\n",
    "    ent1 = get_entities_spans(a1)\n",
    "    ent2 = get_entities_spans(a2)\n",
    "    for e1 in ent1 :\n",
    "        matches = find_overlaps(e1, ent2)\n",
    "        if len(matches) > 1 :\n",
    "            print(\"Study : \", s)\n",
    "            print(\"Entity compared : \", e1)\n",
    "            print(\"Matches  : \", matches)\n",
    "            break"
   ]
  }
 ],
 "metadata": {
  "kernelspec": {
   "display_name": "Python 3",
   "language": "python",
   "name": "python3"
  },
  "language_info": {
   "codemirror_mode": {
    "name": "ipython",
    "version": 3
   },
   "file_extension": ".py",
   "mimetype": "text/x-python",
   "name": "python",
   "nbconvert_exporter": "python",
   "pygments_lexer": "ipython3",
   "version": "3.11.8"
  },
  "orig_nbformat": 4
 },
 "nbformat": 4,
 "nbformat_minor": 2
}
